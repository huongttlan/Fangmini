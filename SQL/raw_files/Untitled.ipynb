{
 "cells": [
  {
   "cell_type": "code",
   "execution_count": 68,
   "metadata": {
    "collapsed": false
   },
   "outputs": [
    {
     "name": "stdout",
     "output_type": "stream",
     "text": [
      "<__main__.MySum object at 0x7fd414550bd0> 1\n",
      "<__main__.MySum object at 0x7fd414550bd0> 2\n",
      "[(5,)]\n"
     ]
    }
   ],
   "source": [
    "import sqlite3\n",
    "import numpy as np\n",
    "from scipy import stats\n",
    "\n",
    "class ScipySemAggregate(object):\n",
    "    def __init__(self):\n",
    "        self.values = []\n",
    "    def step(self, value):\n",
    "        self.values.append(value)\n",
    "    def finalize(self):\n",
    "        return stats.sem(self.values)\n",
    "    #return np.array(self.values).var()  \n",
    "    \n",
    "class MySum(object):\n",
    "    def __init__(self):\n",
    "        self.count = 0\n",
    "\n",
    "    def step(self, value):\n",
    "        print self, value\n",
    "        self.count += value**2\n",
    "\n",
    "    def finalize(self):\n",
    "        return self.count\n",
    "\n",
    "con = sqlite3.connect(\":memory:\")\n",
    "con.create_aggregate(\"sp_sem\", 1, ScipySemAggregate)\n",
    "con.create_aggregate(\"mysum\", 1, MySum)\n",
    "cur = con.cursor()\n",
    "cur.execute(\"create table fang(a,b)\")\n",
    "cur.execute(\"insert into fang (a,b) values (1,3)\")\n",
    "cur.execute(\"insert into fang (a,b) values (2,4)\")\n",
    "cur.execute(\"select mysum(a) from fang\")\n",
    "#cur.execute(\"select * from fang\")\n",
    "a = cur.fetchall()\n",
    "print a"
   ]
  },
  {
   "cell_type": "code",
   "execution_count": 69,
   "metadata": {
    "collapsed": false
   },
   "outputs": [
    {
     "data": {
      "text/plain": [
       "0.25"
      ]
     },
     "execution_count": 69,
     "metadata": {},
     "output_type": "execute_result"
    }
   ],
   "source": [
    "numpy.array([3,4]).var()"
   ]
  },
  {
   "cell_type": "code",
   "execution_count": 70,
   "metadata": {
    "collapsed": false
   },
   "outputs": [
    {
     "data": {
      "text/plain": [
       "0.5"
      ]
     },
     "execution_count": 70,
     "metadata": {},
     "output_type": "execute_result"
    }
   ],
   "source": [
    "stats.sem([3,4])"
   ]
  },
  {
   "cell_type": "code",
   "execution_count": null,
   "metadata": {
    "collapsed": false
   },
   "outputs": [],
   "source": []
  },
  {
   "cell_type": "code",
   "execution_count": null,
   "metadata": {
    "collapsed": false
   },
   "outputs": [],
   "source": []
  },
  {
   "cell_type": "code",
   "execution_count": null,
   "metadata": {
    "collapsed": true
   },
   "outputs": [],
   "source": []
  }
 ],
 "metadata": {
  "kernelspec": {
   "display_name": "Python 2",
   "language": "python",
   "name": "python2"
  },
  "language_info": {
   "codemirror_mode": {
    "name": "ipython",
    "version": 2
   },
   "file_extension": ".py",
   "mimetype": "text/x-python",
   "name": "python",
   "nbconvert_exporter": "python",
   "pygments_lexer": "ipython2",
   "version": "2.7.10"
  }
 },
 "nbformat": 4,
 "nbformat_minor": 0
}
