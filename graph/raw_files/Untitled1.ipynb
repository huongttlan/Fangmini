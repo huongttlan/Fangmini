{
 "cells": [
  {
   "cell_type": "code",
   "execution_count": 1,
   "metadata": {
    "collapsed": true
   },
   "outputs": [],
   "source": [
    "%load_ext sql"
   ]
  },
  {
   "cell_type": "code",
   "execution_count": 2,
   "metadata": {
    "collapsed": false
   },
   "outputs": [
    {
     "name": "stdout",
     "output_type": "stream",
     "text": [
      "Done.\n",
      "Done.\n",
      "Done.\n",
      "Done.\n",
      "Done.\n",
      "Done.\n",
      "Done.\n",
      "Done.\n"
     ]
    },
    {
     "data": {
      "text/plain": [
       "[]"
      ]
     },
     "execution_count": 2,
     "metadata": {},
     "output_type": "execute_result"
    }
   ],
   "source": [
    "%%sql sqlite://\n",
    "DROP TABLE IF EXISTS Employees;\n",
    "CREATE TABLE Employees (\n",
    "    employee_id INTEGER PRIMARY KEY,\n",
    "    name TEXT NOT NULL,\n",
    "    hire_date DATE NOT NULL,\n",
    "    title TEXT NOT NULL,\n",
    "    phone_number TEXT NOT NULL\n",
    ");\n",
    "\n",
    "DROP TABLE IF EXISTS Tasks;\n",
    "CREATE TABLE Tasks (\n",
    "    task_id INTEGER PRIMARY KEY,\n",
    "    deadline DATE NOT NULL,\n",
    "    status INT NOT NULL DEFAULT 0,\n",
    "    description TEXT\n",
    ");\n",
    "\n",
    "\n",
    "DROP TABLE IF EXISTS Assignments;\n",
    "CREATE TABLE Assignments (\n",
    "    assignment_id INTEGER PRIMARY KEY,\n",
    "    task_id INTEGER NOT NULL,\n",
    "    employee_id INTEGER NOT NULL,\n",
    "    start_date DATE NOT NULL,\n",
    "    end_date DATE NOT NULL,\n",
    "    charge_code TEXT NOT NULL,  -- This should probably be its own table!\n",
    "    fraction_assignment REAL NOT NULL\n",
    ");\n",
    "\n",
    "DROP TABLE IF EXISTS Pension_Choices;\n",
    "CREATE TABLE Pension_Choices (\n",
    "    pension_id INTEGER PRIMARY KEY,\n",
    "    employee_id INTEGER NOT NULL, \n",
    "    plan_name TEXT NOT NULL,\n",
    "    funding_amount INTEGER NOT NULL);"
   ]
  },
  {
   "cell_type": "code",
   "execution_count": null,
   "metadata": {
    "collapsed": true
   },
   "outputs": [],
   "source": []
  }
 ],
 "metadata": {
  "kernelspec": {
   "display_name": "Python 2",
   "language": "python",
   "name": "python2"
  },
  "language_info": {
   "codemirror_mode": {
    "name": "ipython",
    "version": 2
   },
   "file_extension": ".py",
   "mimetype": "text/x-python",
   "name": "python",
   "nbconvert_exporter": "python",
   "pygments_lexer": "ipython2",
   "version": "2.7.10"
  }
 },
 "nbformat": 4,
 "nbformat_minor": 0
}
